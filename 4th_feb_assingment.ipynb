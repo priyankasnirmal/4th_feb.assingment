{
 "cells": [
  {
   "cell_type": "code",
   "execution_count": 1,
   "id": "ec1ccb8e-aa77-4c9f-bf5b-26ee2549041d",
   "metadata": {},
   "outputs": [
    {
     "name": "stdout",
     "output_type": "stream",
     "text": [
      "Virat Kohli: 24936\n",
      "Jack Kallis: 25534\n",
      "Ricky Ponting: 27483\n",
      "Sachin Tendulkar: 34357\n",
      "[1, 4, 9, 16, 25, 36, 49, 64, 81, 100]\n",
      "('1', '2', '3', '4', '5', '6', '7', '8', '9', '10')\n",
      "300\n",
      "[2, 6, 60, 90, 120, 46]\n",
      "[3, 6, 9, 27, 60, 90, 120]\n",
      "palindromes in the list: ['php', 'aba', 'radar', 'level']\n",
      "['php', 'aba', 'radar', 'level']\n"
     ]
    }
   ],
   "source": [
    "\n",
    "data = [('Sachin Tendulkar', 34357), ('Ricky Ponting', 27483), ('Jack Kallis', 25534), ('Virat Kohli', 24936)]\n",
    "sorted_data = sorted(data, key=lambda x: x[1])\n",
    "for player, score in sorted_data:\n",
    "    print(f\"{player}: {score}\")\n",
    "\n",
    "l = [1, 2, 3, 4, 5, 6, 7, 8, 9, 10]\n",
    "print(list(map(lambda x : x**2,l)))\n",
    "\n",
    "print(tuple(map(lambda x : str(x),l)))\n",
    "\n",
    "from functools import reduce\n",
    "print(reduce(lambda x,y: x+y,list(range(1,25))))\n",
    "\n",
    "\n",
    "l2 = [2,3,6,9,27,60,90,120,55,46]\n",
    "print(list(filter(lambda x : x%2==0,l2)))\n",
    "print(list(filter(lambda x : x%3==0,l2)))\n",
    "\n",
    "words = ['python','php','aba','radar','level']\n",
    "palindromes = list(filter(lambda word: word== word[::-1],words))\n",
    "print(\"palindromes in the list:\",palindromes)\n",
    "\n",
    "\n",
    "#lambda function to check if a word is a palindrome\n",
    "is_palindrome = lambda word:word == word[::-1]\n",
    "#Use filter() to get the palindromes from the list\n",
    "palindromes = list(filter(is_palindrome,words))\n",
    "print(palindromes)"
   ]
  },
  {
   "cell_type": "code",
   "execution_count": null,
   "id": "c36e0b16-b77a-4bd4-afd6-3a040375ce4b",
   "metadata": {},
   "outputs": [],
   "source": []
  }
 ],
 "metadata": {
  "kernelspec": {
   "display_name": "Python 3 (ipykernel)",
   "language": "python",
   "name": "python3"
  },
  "language_info": {
   "codemirror_mode": {
    "name": "ipython",
    "version": 3
   },
   "file_extension": ".py",
   "mimetype": "text/x-python",
   "name": "python",
   "nbconvert_exporter": "python",
   "pygments_lexer": "ipython3",
   "version": "3.10.8"
  }
 },
 "nbformat": 4,
 "nbformat_minor": 5
}
